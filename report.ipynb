{
 "cells": [
  {
   "attachments": {},
   "cell_type": "markdown",
   "metadata": {},
   "source": [
    "# Example Report: Distribution of train stops in germany\n",
    "\n",
    "The question that interests us is: \n",
    "\n",
    "This report is based on open data from two different datasources.\n",
    "\n",
    "#### Datasource 1\n",
    "\n",
    "#### Datasource 2\n",
    "The second datasource is the DB Timetable API Version 1.0.x. The timetables API can be used to query information about the current (train) traffic situation in Germany and its causes. For the report API endpoints are called that return a Timetable object that contains all known changes for a station given by an *eva number* (train station identifier). \n",
    "\n",
    "For further information see the official website (https://developers.deutschebahn.com/db-api-marketplace/apis/product/timetables) There you can find also the OpenAPI-document of the DB Timetable API.\n",
    "\n",
    "The Timetables APIs data is provided under a [Creative Commons Attribution 4.0 International (CC BY 4.0)0](https://creativecommons.org/licenses/by/4.0/) license."
   ]
  },
  {
   "attachments": {},
   "cell_type": "markdown",
   "metadata": {},
   "source": [
    "## Install dependencies\n",
    "Initially, install all required dependencies. The specific version of SQLAlchemy is needed because SQLAlchemy 2.0 does not work with pandas yet. nbformat allows the use of the \"notebook\" formatter for the plot, others can not be rendered to HTML."
   ]
  },
  {
   "cell_type": "code",
   "execution_count": 24,
   "metadata": {},
   "outputs": [
    {
     "name": "stdout",
     "output_type": "stream",
     "text": [
      "Requirement already satisfied: pandas in c:\\users\\dominic\\appdata\\local\\programs\\python\\python310\\lib\\site-packages (2.0.2)\n",
      "Requirement already satisfied: numpy>=1.21.0 in c:\\users\\dominic\\appdata\\local\\programs\\python\\python310\\lib\\site-packages (from pandas) (1.23.3)\n",
      "Requirement already satisfied: pytz>=2020.1 in c:\\users\\dominic\\appdata\\local\\programs\\python\\python310\\lib\\site-packages (from pandas) (2022.4)\n",
      "Requirement already satisfied: python-dateutil>=2.8.2 in c:\\users\\dominic\\appdata\\local\\programs\\python\\python310\\lib\\site-packages (from pandas) (2.8.2)\n",
      "Requirement already satisfied: tzdata>=2022.1 in c:\\users\\dominic\\appdata\\local\\programs\\python\\python310\\lib\\site-packages (from pandas) (2023.3)\n",
      "Requirement already satisfied: six>=1.5 in c:\\users\\dominic\\appdata\\local\\programs\\python\\python310\\lib\\site-packages (from python-dateutil>=2.8.2->pandas) (1.16.0)\n",
      "Note: you may need to restart the kernel to use updated packages.\n"
     ]
    },
    {
     "name": "stderr",
     "output_type": "stream",
     "text": [
      "\n",
      "[notice] A new release of pip available: 22.2.2 -> 23.1.2\n",
      "[notice] To update, run: python.exe -m pip install --upgrade pip\n"
     ]
    },
    {
     "name": "stdout",
     "output_type": "stream",
     "text": [
      "Requirement already satisfied: plotly in c:\\users\\dominic\\appdata\\local\\programs\\python\\python310\\lib\\site-packages (5.15.0)\n",
      "Requirement already satisfied: tenacity>=6.2.0 in c:\\users\\dominic\\appdata\\local\\programs\\python\\python310\\lib\\site-packages (from plotly) (8.2.2)\n",
      "Requirement already satisfied: packaging in c:\\users\\dominic\\appdata\\local\\programs\\python\\python310\\lib\\site-packages (from plotly) (21.3)\n",
      "Requirement already satisfied: pyparsing!=3.0.5,>=2.0.2 in c:\\users\\dominic\\appdata\\local\\programs\\python\\python310\\lib\\site-packages (from packaging->plotly) (3.0.9)\n",
      "Note: you may need to restart the kernel to use updated packages.\n"
     ]
    },
    {
     "name": "stderr",
     "output_type": "stream",
     "text": [
      "\n",
      "[notice] A new release of pip available: 22.2.2 -> 23.1.2\n",
      "[notice] To update, run: python.exe -m pip install --upgrade pip\n"
     ]
    },
    {
     "name": "stdout",
     "output_type": "stream",
     "text": [
      "Requirement already satisfied: SQLAlchemy in c:\\users\\dominic\\appdata\\local\\programs\\python\\python310\\lib\\site-packages (1.4.39)\n",
      "Requirement already satisfied: greenlet!=0.4.17 in c:\\users\\dominic\\appdata\\local\\programs\\python\\python310\\lib\\site-packages (from SQLAlchemy) (2.0.2)\n",
      "Note: you may need to restart the kernel to use updated packages.\n"
     ]
    },
    {
     "name": "stderr",
     "output_type": "stream",
     "text": [
      "\n",
      "[notice] A new release of pip available: 22.2.2 -> 23.1.2\n",
      "[notice] To update, run: python.exe -m pip install --upgrade pip\n"
     ]
    },
    {
     "name": "stdout",
     "output_type": "stream",
     "text": [
      "Requirement already satisfied: nbformat in c:\\users\\dominic\\appdata\\local\\programs\\python\\python310\\lib\\site-packages (5.9.0)\n",
      "Requirement already satisfied: fastjsonschema in c:\\users\\dominic\\appdata\\local\\programs\\python\\python310\\lib\\site-packages (from nbformat) (2.17.1)\n",
      "Requirement already satisfied: jsonschema>=2.6 in c:\\users\\dominic\\appdata\\local\\programs\\python\\python310\\lib\\site-packages (from nbformat) (4.17.3)\n",
      "Requirement already satisfied: traitlets>=5.1 in c:\\users\\dominic\\appdata\\local\\programs\\python\\python310\\lib\\site-packages (from nbformat) (5.9.0)\n",
      "Requirement already satisfied: jupyter-core in c:\\users\\dominic\\appdata\\roaming\\python\\python310\\site-packages (from nbformat) (5.3.0)\n",
      "Requirement already satisfied: attrs>=17.4.0 in c:\\users\\dominic\\appdata\\local\\programs\\python\\python310\\lib\\site-packages (from jsonschema>=2.6->nbformat) (23.1.0)\n",
      "Requirement already satisfied: pyrsistent!=0.17.0,!=0.17.1,!=0.17.2,>=0.14.0 in c:\\users\\dominic\\appdata\\local\\programs\\python\\python310\\lib\\site-packages (from jsonschema>=2.6->nbformat) (0.19.3)\n",
      "Requirement already satisfied: platformdirs>=2.5 in c:\\users\\dominic\\appdata\\roaming\\python\\python310\\site-packages (from jupyter-core->nbformat) (3.5.3)\n",
      "Requirement already satisfied: pywin32>=300 in c:\\users\\dominic\\appdata\\roaming\\python\\python310\\site-packages (from jupyter-core->nbformat) (306)\n",
      "Note: you may need to restart the kernel to use updated packages.\n"
     ]
    },
    {
     "name": "stderr",
     "output_type": "stream",
     "text": [
      "\n",
      "[notice] A new release of pip available: 22.2.2 -> 23.1.2\n",
      "[notice] To update, run: python.exe -m pip install --upgrade pip\n"
     ]
    },
    {
     "name": "stdout",
     "output_type": "stream",
     "text": [
      "Requirement already satisfied: ipywidgets in c:\\users\\dominic\\appdata\\local\\programs\\python\\python310\\lib\\site-packages (8.0.6)\n",
      "Requirement already satisfied: ipython>=6.1.0 in c:\\users\\dominic\\appdata\\local\\programs\\python\\python310\\lib\\site-packages (from ipywidgets) (8.13.2)\n",
      "Requirement already satisfied: jupyterlab-widgets~=3.0.7 in c:\\users\\dominic\\appdata\\local\\programs\\python\\python310\\lib\\site-packages (from ipywidgets) (3.0.7)\n",
      "Requirement already satisfied: traitlets>=4.3.1 in c:\\users\\dominic\\appdata\\local\\programs\\python\\python310\\lib\\site-packages (from ipywidgets) (5.9.0)\n",
      "Requirement already satisfied: widgetsnbextension~=4.0.7 in c:\\users\\dominic\\appdata\\local\\programs\\python\\python310\\lib\\site-packages (from ipywidgets) (4.0.7)\n",
      "Requirement already satisfied: ipykernel>=4.5.1 in c:\\users\\dominic\\appdata\\roaming\\python\\python310\\site-packages (from ipywidgets) (6.23.1)\n",
      "Requirement already satisfied: jupyter-client>=6.1.12 in c:\\users\\dominic\\appdata\\roaming\\python\\python310\\site-packages (from ipykernel>=4.5.1->ipywidgets) (8.2.0)\n",
      "Requirement already satisfied: packaging in c:\\users\\dominic\\appdata\\local\\programs\\python\\python310\\lib\\site-packages (from ipykernel>=4.5.1->ipywidgets) (21.3)\n",
      "Requirement already satisfied: psutil in c:\\users\\dominic\\appdata\\roaming\\python\\python310\\site-packages (from ipykernel>=4.5.1->ipywidgets) (5.9.5)\n",
      "Requirement already satisfied: comm>=0.1.1 in c:\\users\\dominic\\appdata\\roaming\\python\\python310\\site-packages (from ipykernel>=4.5.1->ipywidgets) (0.1.3)\n",
      "Requirement already satisfied: nest-asyncio in c:\\users\\dominic\\appdata\\roaming\\python\\python310\\site-packages (from ipykernel>=4.5.1->ipywidgets) (1.5.6)\n",
      "Requirement already satisfied: pyzmq>=20 in c:\\users\\dominic\\appdata\\roaming\\python\\python310\\site-packages (from ipykernel>=4.5.1->ipywidgets) (25.1.0)\n",
      "Requirement already satisfied: debugpy>=1.6.5 in c:\\users\\dominic\\appdata\\roaming\\python\\python310\\site-packages (from ipykernel>=4.5.1->ipywidgets) (1.6.7)\n",
      "Requirement already satisfied: tornado>=6.1 in c:\\users\\dominic\\appdata\\roaming\\python\\python310\\site-packages (from ipykernel>=4.5.1->ipywidgets) (6.3.2)\n",
      "Requirement already satisfied: matplotlib-inline>=0.1 in c:\\users\\dominic\\appdata\\local\\programs\\python\\python310\\lib\\site-packages (from ipykernel>=4.5.1->ipywidgets) (0.1.6)\n",
      "Requirement already satisfied: jupyter-core!=5.0.*,>=4.12 in c:\\users\\dominic\\appdata\\roaming\\python\\python310\\site-packages (from ipykernel>=4.5.1->ipywidgets) (5.3.0)\n",
      "Requirement already satisfied: colorama in c:\\users\\dominic\\appdata\\local\\programs\\python\\python310\\lib\\site-packages (from ipython>=6.1.0->ipywidgets) (0.4.5)\n",
      "Requirement already satisfied: pygments>=2.4.0 in c:\\users\\dominic\\appdata\\local\\programs\\python\\python310\\lib\\site-packages (from ipython>=6.1.0->ipywidgets) (2.15.1)\n",
      "Requirement already satisfied: jedi>=0.16 in c:\\users\\dominic\\appdata\\local\\programs\\python\\python310\\lib\\site-packages (from ipython>=6.1.0->ipywidgets) (0.18.2)\n",
      "Requirement already satisfied: prompt-toolkit!=3.0.37,<3.1.0,>=3.0.30 in c:\\users\\dominic\\appdata\\local\\programs\\python\\python310\\lib\\site-packages (from ipython>=6.1.0->ipywidgets) (3.0.38)\n",
      "Requirement already satisfied: stack-data in c:\\users\\dominic\\appdata\\local\\programs\\python\\python310\\lib\\site-packages (from ipython>=6.1.0->ipywidgets) (0.6.2)\n",
      "Requirement already satisfied: pickleshare in c:\\users\\dominic\\appdata\\local\\programs\\python\\python310\\lib\\site-packages (from ipython>=6.1.0->ipywidgets) (0.7.5)\n",
      "Requirement already satisfied: backcall in c:\\users\\dominic\\appdata\\local\\programs\\python\\python310\\lib\\site-packages (from ipython>=6.1.0->ipywidgets) (0.2.0)\n",
      "Requirement already satisfied: decorator in c:\\users\\dominic\\appdata\\local\\programs\\python\\python310\\lib\\site-packages (from ipython>=6.1.0->ipywidgets) (5.1.1)\n",
      "Requirement already satisfied: parso<0.9.0,>=0.8.0 in c:\\users\\dominic\\appdata\\local\\programs\\python\\python310\\lib\\site-packages (from jedi>=0.16->ipython>=6.1.0->ipywidgets) (0.8.3)\n",
      "Requirement already satisfied: python-dateutil>=2.8.2 in c:\\users\\dominic\\appdata\\local\\programs\\python\\python310\\lib\\site-packages (from jupyter-client>=6.1.12->ipykernel>=4.5.1->ipywidgets) (2.8.2)\n",
      "Requirement already satisfied: pywin32>=300 in c:\\users\\dominic\\appdata\\roaming\\python\\python310\\site-packages (from jupyter-core!=5.0.*,>=4.12->ipykernel>=4.5.1->ipywidgets) (306)\n",
      "Requirement already satisfied: platformdirs>=2.5 in c:\\users\\dominic\\appdata\\roaming\\python\\python310\\site-packages (from jupyter-core!=5.0.*,>=4.12->ipykernel>=4.5.1->ipywidgets) (3.5.3)\n",
      "Requirement already satisfied: wcwidth in c:\\users\\dominic\\appdata\\local\\programs\\python\\python310\\lib\\site-packages (from prompt-toolkit!=3.0.37,<3.1.0,>=3.0.30->ipython>=6.1.0->ipywidgets) (0.2.6)\n",
      "Requirement already satisfied: pyparsing!=3.0.5,>=2.0.2 in c:\\users\\dominic\\appdata\\local\\programs\\python\\python310\\lib\\site-packages (from packaging->ipykernel>=4.5.1->ipywidgets) (3.0.9)\n",
      "Requirement already satisfied: pure-eval in c:\\users\\dominic\\appdata\\local\\programs\\python\\python310\\lib\\site-packages (from stack-data->ipython>=6.1.0->ipywidgets) (0.2.2)\n",
      "Requirement already satisfied: executing>=1.2.0 in c:\\users\\dominic\\appdata\\local\\programs\\python\\python310\\lib\\site-packages (from stack-data->ipython>=6.1.0->ipywidgets) (1.2.0)\n",
      "Requirement already satisfied: asttokens>=2.1.0 in c:\\users\\dominic\\appdata\\local\\programs\\python\\python310\\lib\\site-packages (from stack-data->ipython>=6.1.0->ipywidgets) (2.2.1)\n",
      "Requirement already satisfied: six in c:\\users\\dominic\\appdata\\local\\programs\\python\\python310\\lib\\site-packages (from asttokens>=2.1.0->stack-data->ipython>=6.1.0->ipywidgets) (1.16.0)\n",
      "Note: you may need to restart the kernel to use updated packages.\n"
     ]
    },
    {
     "name": "stderr",
     "output_type": "stream",
     "text": [
      "\n",
      "[notice] A new release of pip available: 22.2.2 -> 23.1.2\n",
      "[notice] To update, run: python.exe -m pip install --upgrade pip\n"
     ]
    }
   ],
   "source": [
    "%pip install pandas\n",
    "%pip install plotly\n",
    "%pip install SQLAlchemy\n",
    "%pip install nbformat\n",
    "%pip install ipywidgets"
   ]
  },
  {
   "attachments": {},
   "cell_type": "markdown",
   "metadata": {},
   "source": [
    "## Load data\n",
    "Create a pandas dataframe using the local sqlite file."
   ]
  },
  {
   "cell_type": "code",
   "execution_count": 25,
   "metadata": {},
   "outputs": [],
   "source": [
    "import pandas as pd\n",
    "\n",
    "ds1_df = pd.read_sql_table('connection_time_graph', 'sqlite:///project/data/train_connection_analysis.sqlite')\n",
    "ds2_df = pd.read_sql_table('timetable_for_stations', 'sqlite:///project/data/train_connection_analysis.sqlite')"
   ]
  },
  {
   "attachments": {},
   "cell_type": "markdown",
   "metadata": {},
   "source": [
    "## Towns/Trainstops in Germany that are included in this analysis?\n",
    "To show which towns/trainstops are included in our analysis, we use plotly to draw a scatterplot of all train stops in the dataset, overlaying it on a map from OpenStreetMap.\n",
    "\n",
    "// The train stops will be colored based on the `Betreiber_Name`, allowing us to see what area an operator services."
   ]
  },
  {
   "cell_type": "code",
   "execution_count": 26,
   "metadata": {},
   "outputs": [
    {
     "data": {
      "text/plain": [
       "'\\nfig = px.scatter_mapbox(df, \\n                        lat=\"Breite\", \\n                        lon=\"Laenge\", \\n                        hover_name=\"NAME\", \\n                        hover_data=[\"EVA_NR\", \"DS100\", \"Betreiber_Name\"],\\n                        color=\"Betreiber_Name\",\\n                        zoom=5, \\n                        height=800,\\n                        width=1200)\\n\\nfig.update_layout(mapbox_style=\"open-street-map\")\\nfig.update_layout(margin={\"r\":0,\"t\":0,\"l\":0,\"b\":0})\\nfig.show()'"
      ]
     },
     "execution_count": 26,
     "metadata": {},
     "output_type": "execute_result"
    }
   ],
   "source": [
    "import plotly.io as pio\n",
    "import plotly.express as px\n",
    "\n",
    "# pio.renderers.default = \"notebook\"\n",
    "\n",
    "\"\"\"\n",
    "fig = px.scatter_mapbox(df, \n",
    "                        lat=\"Breite\", \n",
    "                        lon=\"Laenge\", \n",
    "                        hover_name=\"NAME\", \n",
    "                        hover_data=[\"EVA_NR\", \"DS100\", \"Betreiber_Name\"],\n",
    "                        color=\"Betreiber_Name\",\n",
    "                        zoom=5, \n",
    "                        height=800,\n",
    "                        width=1200)\n",
    "\n",
    "fig.update_layout(mapbox_style=\"open-street-map\")\n",
    "fig.update_layout(margin={\"r\":0,\"t\":0,\"l\":0,\"b\":0})\n",
    "fig.show()\"\"\""
   ]
  },
  {
   "attachments": {},
   "cell_type": "markdown",
   "metadata": {},
   "source": [
    "### Connection Times for a specific connection\n",
    "To answer the question about a specific connection in detail, we make details for a specific connection accessible. At first we show the information as it is in the dataset. Then we will aggregate the data by towns and calculate metrics to compare train and car connections by town.\n",
    "\n",
    "Just select your \\<Source\\> and your \\<Destination\\>. It will show the duration in minutes for a possible connection and the transportType of the connection.\n",
    "\n",
    "Note: There are different train connections with different connection times."
   ]
  },
  {
   "cell_type": "code",
   "execution_count": 89,
   "metadata": {},
   "outputs": [
    {
     "data": {
      "application/vnd.jupyter.widget-view+json": {
       "model_id": "7112548f731b4af2a36df20242ec4329",
       "version_major": 2,
       "version_minor": 0
      },
      "text/plain": [
       "interactive(children=(Dropdown(description='source', options=('Aachen', 'Augsburg', 'Berlin', 'Bielefeld', 'Bo…"
      ]
     },
     "metadata": {},
     "output_type": "display_data"
    }
   ],
   "source": [
    "import ipywidgets as widgets\n",
    "from ipywidgets import interact\n",
    "\n",
    "sources = list(ds1_df[\"source\"].unique())\n",
    "destinations = list(ds1_df[\"destination\"].unique())\n",
    "\n",
    "@interact\n",
    "def show_basic_connection_information(source=sources,\n",
    "                                destination=destinations):\n",
    "    connection = ds1_df[(ds1_df[\"source\"] == source) & (ds1_df[\"destination\"] == destination)]\n",
    "    connection = connection[[\"source\", \"destination\", \"duration\", \"transportType\"]]\n",
    "    connection[\"duration\"] = pd.to_datetime(connection.duration, unit='m').dt.strftime('%Hh %Mmin')\n",
    "    print(connection)"
   ]
  },
  {
   "attachments": {},
   "cell_type": "markdown",
   "metadata": {},
   "source": [
    "### Aggregate connection times per connection into a single row and calculate mean/min train duration\n",
    "\n",
    "To answer the question where are already good train connections, we need to compare the connection times by car with them by train. Therefore we pick the fastest train connection and the median and compare connection times to the ones by car. We store the information for a specific connection in a single row"
   ]
  },
  {
   "cell_type": "code",
   "execution_count": 57,
   "metadata": {},
   "outputs": [
    {
     "name": "stdout",
     "output_type": "stream",
     "text": [
      "   source destination  median_train_duration  min_train_duration  car_duration\n",
      "0  Aachen    Augsburg                  314.0                 302           318\n",
      "1  Aachen      Berlin                  356.0                 351           352\n"
     ]
    }
   ],
   "source": [
    "# Select the train connections, group the trains connections by 'source' and 'destination' and calculate the median and minimum duration\n",
    "train_df = ds1_df[ds1_df['transportType'] == 'train']\n",
    "train_grouped = train_df.groupby(['source', 'destination'])['duration'].agg(['median', 'min']).reset_index()\n",
    "\n",
    "# Filter the DataFrame for 'car' durations\n",
    "car_df = ds1_df[ds1_df['transportType'] == 'car']\n",
    "car_df = car_df[[\"source\", \"destination\", \"duration\"]]\n",
    "#print(car_df)\n",
    "\n",
    "# Merge the train_df and car_df on 'source' and 'destination'\n",
    "connection_times_df = pd.merge(train_grouped, car_df, on=['source', 'destination'], how='left')\n",
    "\n",
    "# Rename the columns\n",
    "connection_times_df.rename(columns={'median': 'median_train_duration', 'min': 'min_train_duration', 'duration': 'car_duration'}, inplace=True)\n",
    "\n",
    "print(connection_times_df.head(2))"
   ]
  },
  {
   "attachments": {},
   "cell_type": "markdown",
   "metadata": {},
   "source": [
    "### Compare train connection times with car connection times\n",
    "To answer the question where a train connection is already better than a car connection, calculate the difference of the connection times. \n",
    "\n",
    "* Positive values x mean that a train connection is faster by x minutes than the car connection between a source and a destination.\n",
    "* Negative values x mean that a train connection is slower by x minutes than the car connection between a source and a destination."
   ]
  },
  {
   "cell_type": "code",
   "execution_count": 96,
   "metadata": {},
   "outputs": [
    {
     "name": "stdout",
     "output_type": "stream",
     "text": [
      "   source destination  median_train_duration  min_train_duration  \\\n",
      "0  Aachen    Augsburg                  314.0                 302   \n",
      "1  Aachen      Berlin                  356.0                 351   \n",
      "\n",
      "   car_duration  diff_car_median_train_duration  diff_car_min_train_duration  \n",
      "0           318                             4.0                           16  \n",
      "1           352                            -4.0                            1  \n"
     ]
    }
   ],
   "source": [
    "connection_times_df[\"diff_car_median_train_duration\"] = connection_times_df[\"car_duration\"] - connection_times_df[\"median_train_duration\"]\n",
    "connection_times_df[\"diff_car_min_train_duration\"] = connection_times_df[\"car_duration\"] - connection_times_df[\"min_train_duration\"]\n",
    "\n",
    "print(connection_times_df.head(2))"
   ]
  },
  {
   "attachments": {},
   "cell_type": "markdown",
   "metadata": {},
   "source": [
    "### Show metrics for a specific connection\n",
    "\n",
    "Now we can show the calculated metrics for a specific connection and show which transportation type is faster for a specific connection between two towns."
   ]
  },
  {
   "cell_type": "code",
   "execution_count": 101,
   "metadata": {},
   "outputs": [
    {
     "data": {
      "application/vnd.jupyter.widget-view+json": {
       "model_id": "e4125b2457264f4a90359b282f058bff",
       "version_major": 2,
       "version_minor": 0
      },
      "text/plain": [
       "interactive(children=(Dropdown(description='source', options=('Aachen', 'Augsburg', 'Berlin', 'Bielefeld', 'Bo…"
      ]
     },
     "metadata": {},
     "output_type": "display_data"
    }
   ],
   "source": [
    "# remember, we calculated the sources and destinations list for the dropbox earlier\n",
    "\n",
    "@interact\n",
    "def show_metrics_for_a_connection(source=sources,\n",
    "                                destination=destinations):\n",
    "    connection = connection_times_df[(connection_times_df[\"source\"] == source) & (connection_times_df[\"destination\"] == destination)]\n",
    "    print(connection)\n",
    "    diff_car_min_train_duration = connection[\"diff_car_min_train_duration\"].values[0]\n",
    "    diff_car_median_train_duration = connection[\"diff_car_median_train_duration\"].values[0]\n",
    "    \n",
    "    if diff_car_min_train_duration > 0:\n",
    "        print(f\"\\nThe fastest train connection from {source} to {destination} is {diff_car_min_train_duration} minutes faster than the car connection.\")\n",
    "    else:\n",
    "        print(f\"\\nThe fastest train connection from {source} to {destination} is {diff_car_min_train_duration} minutes slower than the car connection.\")\n",
    "    \n",
    "    if diff_car_median_train_duration > 0:\n",
    "        print(f\"\\nThe median train connection from {source} to {destination} is {diff_car_median_train_duration} minutes faster than the car connection.\")\n",
    "    else:\n",
    "        print(f\"\\nThe median train connection from {source} to {destination} is {diff_car_median_train_duration} minutes slower than the car connection.\")"
   ]
  },
  {
   "attachments": {},
   "cell_type": "markdown",
   "metadata": {},
   "source": [
    "## Ranking of towns with good train connections\n",
    "\n",
    "To show which towns already have good train connections we now calculate for all outgoing connections from a town if the car or the train is faster to all destinations and count the results. We then create a ranking to highlight towns that are better accessible by car and towns that are better accessible by train."
   ]
  },
  {
   "cell_type": "code",
   "execution_count": 132,
   "metadata": {},
   "outputs": [],
   "source": [
    "min_train_faster = connection_times_df.groupby(\"source\")[\"diff_car_min_train_duration\"].apply(lambda diff_car_min_train_duration: (diff_car_min_train_duration > 0).sum()).reset_index(name=\"min_train_faster\")\n",
    "median_train_faster = connection_times_df.groupby(\"source\")[\"diff_car_median_train_duration\"].apply(lambda diff_car_min_train_duration: (diff_car_min_train_duration > 0).sum()).reset_index(name=\"median_train_faster\")\n",
    "\n",
    "town_ranking = pd.merge(min_train_faster, median_train_faster, on=\"source\")"
   ]
  },
  {
   "attachments": {},
   "cell_type": "markdown",
   "metadata": {},
   "source": [
    "Towns sorted by the number of outgoing connections where the **fastest** train connection is faster than the car connection:"
   ]
  },
  {
   "cell_type": "code",
   "execution_count": 129,
   "metadata": {},
   "outputs": [
    {
     "name": "stdout",
     "output_type": "stream",
     "text": [
      "                    source  min_train_faster  median_train_faster\n",
      "2                   Berlin                57                   26\n",
      "44                Mannheim                47                   38\n",
      "64               Stuttgart                43                   24\n",
      "1                 Augsburg                42                   18\n",
      "33               Karlsruhe                40                   11\n",
      "..                     ...               ...                  ...\n",
      "35                    Kiel                 1                    0\n",
      "68  Villingen-Schwenningen                 0                    0\n",
      "65                   Trier                 0                    0\n",
      "19               Flensburg                 0                    0\n",
      "37                Konstanz                 0                    0\n",
      "\n",
      "[75 rows x 3 columns]\n"
     ]
    }
   ],
   "source": [
    "town_ranking.sort_values(by=[\"min_train_faster\"], inplace=True, ascending=False)\n",
    "print(town_ranking)"
   ]
  },
  {
   "attachments": {},
   "cell_type": "markdown",
   "metadata": {},
   "source": [
    "Towns sorted by the number of outgoing connections where the **median** train connection is faster than the car connection:"
   ]
  },
  {
   "cell_type": "code",
   "execution_count": 131,
   "metadata": {},
   "outputs": [
    {
     "name": "stdout",
     "output_type": "stream",
     "text": [
      "                    source  min_train_faster  median_train_faster\n",
      "44                Mannheim                47                   38\n",
      "2                   Berlin                57                   26\n",
      "64               Stuttgart                43                   24\n",
      "15                Duisburg                32                   21\n",
      "30              Ingolstadt                35                   20\n",
      "..                     ...               ...                  ...\n",
      "65                   Trier                 0                    0\n",
      "68  Villingen-Schwenningen                 0                    0\n",
      "35                    Kiel                 1                    0\n",
      "19               Flensburg                 0                    0\n",
      "37                Konstanz                 0                    0\n",
      "\n",
      "[75 rows x 3 columns]\n"
     ]
    }
   ],
   "source": [
    "town_ranking.sort_values(by=[\"median_train_faster\"], inplace=True, ascending=False)\n",
    "print(town_ranking)"
   ]
  },
  {
   "attachments": {},
   "cell_type": "markdown",
   "metadata": {},
   "source": [
    "## Delays in the operation of a specific train station\n",
    "As for connections also the information of Datasource2 should be able to be filtered. Just select your \\<Station\\> and a \\<Delay cause\\> to make delay causes visible for a specific station"
   ]
  },
  {
   "cell_type": "code",
   "execution_count": 29,
   "metadata": {},
   "outputs": [
    {
     "data": {
      "application/vnd.jupyter.widget-view+json": {
       "model_id": "2ccadd45c69f437bbad4767c1832e9c7",
       "version_major": 2,
       "version_minor": 0
      },
      "text/plain": [
       "interactive(children=(Dropdown(description='train_station', options=('Aachen Hbf', 'Augsburg Hbf', 'Berlin Hbf…"
      ]
     },
     "metadata": {},
     "output_type": "display_data"
    }
   ],
   "source": [
    "ZUGINFO_NRW = \". (Quelle: zuginfo.nrw)\"\n",
    "\n",
    "stations = list(ds2_df[\"train_station\"].unique())\n",
    "ds2_df[\"category\"] = ds2_df[\"category\"].replace(ZUGINFO_NRW, \"\", regex=True)\n",
    "delay_causes = list(ds2_df[\"category\"].unique())\n",
    "\n",
    "\n",
    "@interact\n",
    "def show_train_station_information(train_station=stations, delay_cause=delay_causes):\n",
    "    station = ds2_df[(ds2_df[\"train_station\"] == train_station) & (ds2_df[\"problems_found\"] == True)]\n",
    "    if(station.empty):\n",
    "        print(\"No problems for station \", train_station, \" found!\")\n",
    "    else:\n",
    "        station = station[[\"train_station\", \"from_time\", \"to_time\", \"category\", \"priority\"]]\n",
    "        station = station[station[\"category\"] == delay_cause]\n",
    "        station[\"from_time\"] = pd.to_datetime(station[\"from_time\"], format='%y%m%d%H%M')\n",
    "        station[\"to_time\"] = pd.to_datetime(station[\"to_time\"], format='%y%m%d%H%M')\n",
    "        station[\"duration\"] = station[\"to_time\"] - station[\"from_time\"]\n",
    "        print(station)"
   ]
  },
  {
   "cell_type": "markdown",
   "metadata": {},
   "source": [
    "<Destination/>"
   ]
  }
 ],
 "metadata": {
  "kernelspec": {
   "display_name": "env",
   "language": "python",
   "name": "python3"
  },
  "language_info": {
   "codemirror_mode": {
    "name": "ipython",
    "version": 3
   },
   "file_extension": ".py",
   "mimetype": "text/x-python",
   "name": "python",
   "nbconvert_exporter": "python",
   "pygments_lexer": "ipython3",
   "version": "3.10.8"
  },
  "orig_nbformat": 4
 },
 "nbformat": 4,
 "nbformat_minor": 2
}
