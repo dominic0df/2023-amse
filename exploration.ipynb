{
 "cells": [
  {
   "attachments": {},
   "cell_type": "markdown",
   "metadata": {},
   "source": [
    "# Data Exploration\n",
    "\n",
    "In this notebook describe your data exploration steps."
   ]
  },
  {
   "attachments": {},
   "cell_type": "markdown",
   "metadata": {},
   "source": [
    "## Install dependencies"
   ]
  },
  {
   "cell_type": "code",
   "execution_count": 22,
   "metadata": {},
   "outputs": [
    {
     "name": "stdout",
     "output_type": "stream",
     "text": [
      "Requirement already satisfied: pandas in c:\\users\\dominic\\appdata\\local\\programs\\python\\python310\\lib\\site-packages (2.0.1)\n",
      "Requirement already satisfied: numpy>=1.21.0 in c:\\users\\dominic\\appdata\\local\\programs\\python\\python310\\lib\\site-packages (from pandas) (1.23.3)\n",
      "Requirement already satisfied: python-dateutil>=2.8.2 in c:\\users\\dominic\\appdata\\local\\programs\\python\\python310\\lib\\site-packages (from pandas) (2.8.2)\n",
      "Requirement already satisfied: tzdata>=2022.1 in c:\\users\\dominic\\appdata\\local\\programs\\python\\python310\\lib\\site-packages (from pandas) (2023.3)\n",
      "Requirement already satisfied: pytz>=2020.1 in c:\\users\\dominic\\appdata\\local\\programs\\python\\python310\\lib\\site-packages (from pandas) (2022.4)\n",
      "Requirement already satisfied: six>=1.5 in c:\\users\\dominic\\appdata\\local\\programs\\python\\python310\\lib\\site-packages (from python-dateutil>=2.8.2->pandas) (1.16.0)\n",
      "Note: you may need to restart the kernel to use updated packages.\n"
     ]
    },
    {
     "name": "stderr",
     "output_type": "stream",
     "text": [
      "\n",
      "[notice] A new release of pip available: 22.2.2 -> 23.1.2\n",
      "[notice] To update, run: python.exe -m pip install --upgrade pip\n"
     ]
    },
    {
     "name": "stdout",
     "output_type": "stream",
     "text": [
      "Requirement already satisfied: SQLAlchemy in c:\\users\\dominic\\appdata\\local\\programs\\python\\python310\\lib\\site-packages (2.0.13)\n",
      "Requirement already satisfied: typing-extensions>=4.2.0 in c:\\users\\dominic\\appdata\\local\\programs\\python\\python310\\lib\\site-packages (from SQLAlchemy) (4.4.0)\n",
      "Requirement already satisfied: greenlet!=0.4.17 in c:\\users\\dominic\\appdata\\local\\programs\\python\\python310\\lib\\site-packages (from SQLAlchemy) (2.0.2)\n",
      "Note: you may need to restart the kernel to use updated packages.\n"
     ]
    },
    {
     "name": "stderr",
     "output_type": "stream",
     "text": [
      "\n",
      "[notice] A new release of pip available: 22.2.2 -> 23.1.2\n",
      "[notice] To update, run: python.exe -m pip install --upgrade pip\n"
     ]
    }
   ],
   "source": [
    "%pip install pandas\n",
    "%pip install SQLAlchemy"
   ]
  },
  {
   "attachments": {},
   "cell_type": "markdown",
   "metadata": {},
   "source": [
    "## Load data"
   ]
  },
  {
   "cell_type": "code",
   "execution_count": 23,
   "metadata": {},
   "outputs": [],
   "source": [
    "import pandas as pd\n",
    "\n",
    "ds1_df = pd.read_sql_table('connection_time_graph', 'sqlite:///project/data/train_connection_analysis.sqlite')\n",
    "ds2_df = pd.read_sql_table('timetable_for_stations', 'sqlite:///project/data/train_connection_analysis.sqlite')"
   ]
  },
  {
   "attachments": {},
   "cell_type": "markdown",
   "metadata": {},
   "source": [
    "### Look at the first rows"
   ]
  },
  {
   "attachments": {},
   "cell_type": "markdown",
   "metadata": {},
   "source": [
    "#### Head of Datasource1"
   ]
  },
  {
   "cell_type": "code",
   "execution_count": 24,
   "metadata": {},
   "outputs": [
    {
     "data": {
      "text/html": [
       "<div>\n",
       "<style scoped>\n",
       "    .dataframe tbody tr th:only-of-type {\n",
       "        vertical-align: middle;\n",
       "    }\n",
       "\n",
       "    .dataframe tbody tr th {\n",
       "        vertical-align: top;\n",
       "    }\n",
       "\n",
       "    .dataframe thead th {\n",
       "        text-align: right;\n",
       "    }\n",
       "</style>\n",
       "<table border=\"1\" class=\"dataframe\">\n",
       "  <thead>\n",
       "    <tr style=\"text-align: right;\">\n",
       "      <th></th>\n",
       "      <th>index</th>\n",
       "      <th>source</th>\n",
       "      <th>destination</th>\n",
       "      <th>duration</th>\n",
       "      <th>transportType</th>\n",
       "    </tr>\n",
       "  </thead>\n",
       "  <tbody>\n",
       "    <tr>\n",
       "      <th>0</th>\n",
       "      <td>90398</td>\n",
       "      <td>Aachen</td>\n",
       "      <td>Augsburg</td>\n",
       "      <td>302</td>\n",
       "      <td>train</td>\n",
       "    </tr>\n",
       "    <tr>\n",
       "      <th>1</th>\n",
       "      <td>90399</td>\n",
       "      <td>Aachen</td>\n",
       "      <td>Augsburg</td>\n",
       "      <td>314</td>\n",
       "      <td>train</td>\n",
       "    </tr>\n",
       "    <tr>\n",
       "      <th>2</th>\n",
       "      <td>90400</td>\n",
       "      <td>Aachen</td>\n",
       "      <td>Augsburg</td>\n",
       "      <td>409</td>\n",
       "      <td>train</td>\n",
       "    </tr>\n",
       "    <tr>\n",
       "      <th>3</th>\n",
       "      <td>90401</td>\n",
       "      <td>Aachen</td>\n",
       "      <td>Augsburg</td>\n",
       "      <td>318</td>\n",
       "      <td>car</td>\n",
       "    </tr>\n",
       "    <tr>\n",
       "      <th>4</th>\n",
       "      <td>90403</td>\n",
       "      <td>Aachen</td>\n",
       "      <td>Berlin</td>\n",
       "      <td>356</td>\n",
       "      <td>train</td>\n",
       "    </tr>\n",
       "    <tr>\n",
       "      <th>5</th>\n",
       "      <td>90404</td>\n",
       "      <td>Aachen</td>\n",
       "      <td>Berlin</td>\n",
       "      <td>351</td>\n",
       "      <td>train</td>\n",
       "    </tr>\n",
       "    <tr>\n",
       "      <th>6</th>\n",
       "      <td>90405</td>\n",
       "      <td>Aachen</td>\n",
       "      <td>Berlin</td>\n",
       "      <td>419</td>\n",
       "      <td>train</td>\n",
       "    </tr>\n",
       "    <tr>\n",
       "      <th>7</th>\n",
       "      <td>90406</td>\n",
       "      <td>Aachen</td>\n",
       "      <td>Berlin</td>\n",
       "      <td>352</td>\n",
       "      <td>car</td>\n",
       "    </tr>\n",
       "    <tr>\n",
       "      <th>8</th>\n",
       "      <td>90407</td>\n",
       "      <td>Aachen</td>\n",
       "      <td>Bielefeld</td>\n",
       "      <td>215</td>\n",
       "      <td>train</td>\n",
       "    </tr>\n",
       "    <tr>\n",
       "      <th>9</th>\n",
       "      <td>90408</td>\n",
       "      <td>Aachen</td>\n",
       "      <td>Bielefeld</td>\n",
       "      <td>193</td>\n",
       "      <td>train</td>\n",
       "    </tr>\n",
       "  </tbody>\n",
       "</table>\n",
       "</div>"
      ],
      "text/plain": [
       "   index  source destination  duration transportType\n",
       "0  90398  Aachen    Augsburg       302         train\n",
       "1  90399  Aachen    Augsburg       314         train\n",
       "2  90400  Aachen    Augsburg       409         train\n",
       "3  90401  Aachen    Augsburg       318           car\n",
       "4  90403  Aachen      Berlin       356         train\n",
       "5  90404  Aachen      Berlin       351         train\n",
       "6  90405  Aachen      Berlin       419         train\n",
       "7  90406  Aachen      Berlin       352           car\n",
       "8  90407  Aachen   Bielefeld       215         train\n",
       "9  90408  Aachen   Bielefeld       193         train"
      ]
     },
     "execution_count": 24,
     "metadata": {},
     "output_type": "execute_result"
    }
   ],
   "source": [
    "ds1_df.head(10)"
   ]
  },
  {
   "attachments": {},
   "cell_type": "markdown",
   "metadata": {},
   "source": [
    "#### Head of Datasource2"
   ]
  },
  {
   "cell_type": "code",
   "execution_count": 25,
   "metadata": {},
   "outputs": [
    {
     "data": {
      "text/html": [
       "<div>\n",
       "<style scoped>\n",
       "    .dataframe tbody tr th:only-of-type {\n",
       "        vertical-align: middle;\n",
       "    }\n",
       "\n",
       "    .dataframe tbody tr th {\n",
       "        vertical-align: top;\n",
       "    }\n",
       "\n",
       "    .dataframe thead th {\n",
       "        text-align: right;\n",
       "    }\n",
       "</style>\n",
       "<table border=\"1\" class=\"dataframe\">\n",
       "  <thead>\n",
       "    <tr style=\"text-align: right;\">\n",
       "      <th></th>\n",
       "      <th>level_0</th>\n",
       "      <th>level_1</th>\n",
       "      <th>id</th>\n",
       "      <th>t</th>\n",
       "      <th>from</th>\n",
       "      <th>to</th>\n",
       "      <th>cat</th>\n",
       "      <th>ts</th>\n",
       "      <th>ts-tts</th>\n",
       "      <th>pr</th>\n",
       "    </tr>\n",
       "  </thead>\n",
       "  <tbody>\n",
       "    <tr>\n",
       "      <th>0</th>\n",
       "      <td>Aachen Hbf</td>\n",
       "      <td>0</td>\n",
       "      <td>r1923001</td>\n",
       "      <td>h</td>\n",
       "      <td>2.303310e+09</td>\n",
       "      <td>2.306302e+09</td>\n",
       "      <td>Bauarbeiten. (Quelle: zuginfo.nrw)</td>\n",
       "      <td>2304052150</td>\n",
       "      <td>23-06-10 23:16:08.647</td>\n",
       "      <td>2.0</td>\n",
       "    </tr>\n",
       "    <tr>\n",
       "      <th>1</th>\n",
       "      <td>Aachen Hbf</td>\n",
       "      <td>1</td>\n",
       "      <td>r1963748</td>\n",
       "      <td>h</td>\n",
       "      <td>2.306092e+09</td>\n",
       "      <td>2.306151e+09</td>\n",
       "      <td>Bauarbeiten. (Quelle: zuginfo.nrw)</td>\n",
       "      <td>2306101028</td>\n",
       "      <td>23-06-10 23:16:09.041</td>\n",
       "      <td>2.0</td>\n",
       "    </tr>\n",
       "    <tr>\n",
       "      <th>2</th>\n",
       "      <td>Aachen Hbf</td>\n",
       "      <td>2</td>\n",
       "      <td>r1957826</td>\n",
       "      <td>h</td>\n",
       "      <td>2.305210e+09</td>\n",
       "      <td>2.306252e+09</td>\n",
       "      <td>Information</td>\n",
       "      <td>2305191338</td>\n",
       "      <td>23-06-10 23:16:08.872</td>\n",
       "      <td>2.0</td>\n",
       "    </tr>\n",
       "    <tr>\n",
       "      <th>3</th>\n",
       "      <td>Aachen Hbf</td>\n",
       "      <td>3</td>\n",
       "      <td>r1923001</td>\n",
       "      <td>h</td>\n",
       "      <td>2.303310e+09</td>\n",
       "      <td>2.306302e+09</td>\n",
       "      <td>Bauarbeiten. (Quelle: zuginfo.nrw)</td>\n",
       "      <td>2304052150</td>\n",
       "      <td>23-06-10 23:16:08.647</td>\n",
       "      <td>2.0</td>\n",
       "    </tr>\n",
       "    <tr>\n",
       "      <th>4</th>\n",
       "      <td>Aachen Hbf</td>\n",
       "      <td>4</td>\n",
       "      <td>r1963748</td>\n",
       "      <td>h</td>\n",
       "      <td>2.306092e+09</td>\n",
       "      <td>2.306151e+09</td>\n",
       "      <td>Bauarbeiten. (Quelle: zuginfo.nrw)</td>\n",
       "      <td>2306101028</td>\n",
       "      <td>23-06-10 23:16:09.041</td>\n",
       "      <td>2.0</td>\n",
       "    </tr>\n",
       "    <tr>\n",
       "      <th>5</th>\n",
       "      <td>Aachen Hbf</td>\n",
       "      <td>5</td>\n",
       "      <td>r1973885</td>\n",
       "      <td>h</td>\n",
       "      <td>2.306111e+09</td>\n",
       "      <td>2.306112e+09</td>\n",
       "      <td>Störung. (Quelle: zuginfo.nrw)</td>\n",
       "      <td>2306111216</td>\n",
       "      <td>23-06-11 12:16:24.057</td>\n",
       "      <td>1.0</td>\n",
       "    </tr>\n",
       "    <tr>\n",
       "      <th>6</th>\n",
       "      <td>Aachen Hbf</td>\n",
       "      <td>6</td>\n",
       "      <td>r1973885</td>\n",
       "      <td>h</td>\n",
       "      <td>2.306111e+09</td>\n",
       "      <td>2.306112e+09</td>\n",
       "      <td>Störung. (Quelle: zuginfo.nrw)</td>\n",
       "      <td>2306111216</td>\n",
       "      <td>23-06-11 12:16:24.057</td>\n",
       "      <td>1.0</td>\n",
       "    </tr>\n",
       "    <tr>\n",
       "      <th>7</th>\n",
       "      <td>Aachen Hbf</td>\n",
       "      <td>7</td>\n",
       "      <td>r1963748</td>\n",
       "      <td>h</td>\n",
       "      <td>2.306092e+09</td>\n",
       "      <td>2.306151e+09</td>\n",
       "      <td>Bauarbeiten. (Quelle: zuginfo.nrw)</td>\n",
       "      <td>2306101028</td>\n",
       "      <td>23-06-10 23:16:09.041</td>\n",
       "      <td>2.0</td>\n",
       "    </tr>\n",
       "    <tr>\n",
       "      <th>8</th>\n",
       "      <td>Aachen Hbf</td>\n",
       "      <td>8</td>\n",
       "      <td>r1973885</td>\n",
       "      <td>h</td>\n",
       "      <td>2.306111e+09</td>\n",
       "      <td>2.306112e+09</td>\n",
       "      <td>Störung. (Quelle: zuginfo.nrw)</td>\n",
       "      <td>2306111216</td>\n",
       "      <td>23-06-11 12:16:24.057</td>\n",
       "      <td>1.0</td>\n",
       "    </tr>\n",
       "    <tr>\n",
       "      <th>9</th>\n",
       "      <td>Aachen Hbf</td>\n",
       "      <td>9</td>\n",
       "      <td>r1973885</td>\n",
       "      <td>h</td>\n",
       "      <td>2.306111e+09</td>\n",
       "      <td>2.306112e+09</td>\n",
       "      <td>Störung. (Quelle: zuginfo.nrw)</td>\n",
       "      <td>2306111216</td>\n",
       "      <td>23-06-11 12:16:24.057</td>\n",
       "      <td>1.0</td>\n",
       "    </tr>\n",
       "  </tbody>\n",
       "</table>\n",
       "</div>"
      ],
      "text/plain": [
       "      level_0  level_1        id  t          from            to   \n",
       "0  Aachen Hbf        0  r1923001  h  2.303310e+09  2.306302e+09  \\\n",
       "1  Aachen Hbf        1  r1963748  h  2.306092e+09  2.306151e+09   \n",
       "2  Aachen Hbf        2  r1957826  h  2.305210e+09  2.306252e+09   \n",
       "3  Aachen Hbf        3  r1923001  h  2.303310e+09  2.306302e+09   \n",
       "4  Aachen Hbf        4  r1963748  h  2.306092e+09  2.306151e+09   \n",
       "5  Aachen Hbf        5  r1973885  h  2.306111e+09  2.306112e+09   \n",
       "6  Aachen Hbf        6  r1973885  h  2.306111e+09  2.306112e+09   \n",
       "7  Aachen Hbf        7  r1963748  h  2.306092e+09  2.306151e+09   \n",
       "8  Aachen Hbf        8  r1973885  h  2.306111e+09  2.306112e+09   \n",
       "9  Aachen Hbf        9  r1973885  h  2.306111e+09  2.306112e+09   \n",
       "\n",
       "                                  cat          ts                 ts-tts   pr  \n",
       "0  Bauarbeiten. (Quelle: zuginfo.nrw)  2304052150  23-06-10 23:16:08.647  2.0  \n",
       "1  Bauarbeiten. (Quelle: zuginfo.nrw)  2306101028  23-06-10 23:16:09.041  2.0  \n",
       "2                         Information  2305191338  23-06-10 23:16:08.872  2.0  \n",
       "3  Bauarbeiten. (Quelle: zuginfo.nrw)  2304052150  23-06-10 23:16:08.647  2.0  \n",
       "4  Bauarbeiten. (Quelle: zuginfo.nrw)  2306101028  23-06-10 23:16:09.041  2.0  \n",
       "5      Störung. (Quelle: zuginfo.nrw)  2306111216  23-06-11 12:16:24.057  1.0  \n",
       "6      Störung. (Quelle: zuginfo.nrw)  2306111216  23-06-11 12:16:24.057  1.0  \n",
       "7  Bauarbeiten. (Quelle: zuginfo.nrw)  2306101028  23-06-10 23:16:09.041  2.0  \n",
       "8      Störung. (Quelle: zuginfo.nrw)  2306111216  23-06-11 12:16:24.057  1.0  \n",
       "9      Störung. (Quelle: zuginfo.nrw)  2306111216  23-06-11 12:16:24.057  1.0  "
      ]
     },
     "execution_count": 25,
     "metadata": {},
     "output_type": "execute_result"
    }
   ],
   "source": [
    "ds2_df.head(10)"
   ]
  },
  {
   "attachments": {},
   "cell_type": "markdown",
   "metadata": {},
   "source": [
    "### Data exploration\n",
    "\n",
    "#### Datasource1 Basic informations"
   ]
  },
  {
   "cell_type": "code",
   "execution_count": 26,
   "metadata": {},
   "outputs": [
    {
     "name": "stdout",
     "output_type": "stream",
     "text": [
      "<class 'pandas.core.frame.DataFrame'>\n",
      "RangeIndex: 22200 entries, 0 to 22199\n",
      "Data columns (total 5 columns):\n",
      " #   Column         Non-Null Count  Dtype \n",
      "---  ------         --------------  ----- \n",
      " 0   index          22200 non-null  int64 \n",
      " 1   source         22200 non-null  object\n",
      " 2   destination    22200 non-null  object\n",
      " 3   duration       22200 non-null  int64 \n",
      " 4   transportType  22200 non-null  object\n",
      "dtypes: int64(2), object(3)\n",
      "memory usage: 867.3+ KB\n",
      "Towns in Datasource1:\n"
     ]
    },
    {
     "data": {
      "text/plain": [
       "array(['Aachen', 'Augsburg', 'Berlin', 'Bielefeld', 'Bochum', 'Bonn',\n",
       "       'Bottrop', 'Braunschweig', 'Bremen', 'Bremerhaven', 'Chemnitz',\n",
       "       'Cottbus', 'Darmstadt', 'Dortmund', 'Dresden', 'Duisburg',\n",
       "       'Erfurt', 'Erlangen', 'Essen', 'Flensburg', 'Gelsenkirchen',\n",
       "       'Hagen', 'Hamburg', 'Hamm', 'Hanau', 'Hannover', 'Heidelberg',\n",
       "       'Heilbronn', 'Herne', 'Hildesheim', 'Ingolstadt', 'Iserlohn',\n",
       "       'Kaiserslautern', 'Karlsruhe', 'Kassel', 'Kiel', 'Koblenz',\n",
       "       'Konstanz', 'Krefeld', 'Leipzig', 'Leverkusen', 'Ludwigsburg',\n",
       "       'Magdeburg', 'Mainz', 'Mannheim', 'Marl', 'Minden', 'Moers',\n",
       "       'Neuss', 'Oberhausen', 'Oldenburg', 'Paderborn', 'Pforzheim',\n",
       "       'Potsdam', 'Ratingen', 'Recklinghausen', 'Regensburg', 'Remscheid',\n",
       "       'Reutlingen', 'Rostock', 'Salzgitter', 'Schwerin', 'Solingen',\n",
       "       'Sterkrade', 'Stuttgart', 'Trier', 'Ulm', 'Velbert',\n",
       "       'Villingen-Schwenningen', 'Wiesbaden', 'Witten', 'Wolfsburg',\n",
       "       'Worms', 'Wuppertal', 'Zwickau'], dtype=object)"
      ]
     },
     "execution_count": 26,
     "metadata": {},
     "output_type": "execute_result"
    }
   ],
   "source": [
    "ds1_df.info() \n",
    "print(\"Towns in Datasource1:\")\n",
    "towns_ds1 = ds1_df[\"source\"].unique()\n",
    "towns_ds1"
   ]
  },
  {
   "attachments": {},
   "cell_type": "markdown",
   "metadata": {},
   "source": [
    "#### Datasource2 Basic information"
   ]
  },
  {
   "cell_type": "code",
   "execution_count": 27,
   "metadata": {},
   "outputs": [
    {
     "name": "stdout",
     "output_type": "stream",
     "text": [
      "<class 'pandas.core.frame.DataFrame'>\n",
      "RangeIndex: 18555 entries, 0 to 18554\n",
      "Data columns (total 10 columns):\n",
      " #   Column   Non-Null Count  Dtype  \n",
      "---  ------   --------------  -----  \n",
      " 0   level_0  18555 non-null  object \n",
      " 1   level_1  18555 non-null  int64  \n",
      " 2   id       18555 non-null  object \n",
      " 3   t        18555 non-null  object \n",
      " 4   from     18137 non-null  float64\n",
      " 5   to       18137 non-null  float64\n",
      " 6   cat      17707 non-null  object \n",
      " 7   ts       18555 non-null  int64  \n",
      " 8   ts-tts   18555 non-null  object \n",
      " 9   pr       17707 non-null  float64\n",
      "dtypes: float64(3), int64(2), object(5)\n",
      "memory usage: 1.4+ MB\n",
      "Towns in Datasource2:\n"
     ]
    },
    {
     "data": {
      "text/plain": [
       "array(['Aachen Hbf', 'Augsburg Hbf', 'Berlin Hbf', 'Bielefeld Hbf',\n",
       "       'Bochum Hbf', 'Bonn Hbf', 'Bottrop Hbf', 'Braunschweig Hbf',\n",
       "       'Bremen Hbf', 'Bremerhaven Hbf', 'Chemnitz Hbf', 'Cottbus Hbf',\n",
       "       'Darmstadt Hbf', 'Dortmund Hbf', 'Dresden Hbf', 'Duisburg Hbf',\n",
       "       'Düren', 'Düsseldorf Hbf', 'Erfurt Hbf', 'Erlangen', 'Essen Hbf',\n",
       "       'Flensburg', 'Gelsenkirchen Hbf', 'Göttingen', 'Gütersloh Hbf',\n",
       "       'Hagen Hbf', 'Hamburg Hbf', 'Hanau Hbf', 'Hannover Hbf',\n",
       "       'Heidelberg Hbf', 'Heilbronn Hbf', 'Herne', 'Hildesheim Hbf',\n",
       "       'Ingolstadt Hbf', 'Iserlohn', 'Kaiserslautern Hbf',\n",
       "       'Karlsruhe Hbf', 'Kassel Hbf', 'Kiel Hbf', 'Koblenz Hbf',\n",
       "       'Konstanz', 'Krefeld Hbf', 'Köln Hbf', 'Leipzig Hbf',\n",
       "       'Ludwigsburg', 'Lübeck Hbf', 'Lünen Hbf', 'Magdeburg Hbf',\n",
       "       'Mainz Hbf', 'Mannheim Hbf', 'Moers', 'Mönchengladbach Hbf',\n",
       "       'München Hbf', 'Neuss Hbf', 'Nürnberg Hbf', 'Oberhausen Hbf',\n",
       "       'Osnabrück Hbf', 'Paderborn Hbf', 'Pforzheim Hbf', 'Potsdam Hbf',\n",
       "       'Recklinghausen Hbf', 'Regensburg Hbf', 'Remscheid Hbf',\n",
       "       'Reutlingen Hbf', 'Rostock Hbf', 'Saarbrücken Hbf', 'Schwerin Hbf',\n",
       "       'Solingen Hbf', 'Stuttgart Hbf', 'Trier Hbf', 'Tübingen Hbf',\n",
       "       'Ulm Hbf', 'Wiesbaden Hbf', 'Witten Hbf', 'Wolfsburg Hbf',\n",
       "       'Worms Hbf', 'Wuppertal Hbf', 'Würzburg Hbf'], dtype=object)"
      ]
     },
     "execution_count": 27,
     "metadata": {},
     "output_type": "execute_result"
    }
   ],
   "source": [
    "ds2_df.info()\n",
    "print(\"Towns in Datasource2:\")\n",
    "towns_ds2 = ds2_df[\"level_0\"].unique()\n",
    "towns_ds2"
   ]
  }
 ],
 "metadata": {
  "kernelspec": {
   "display_name": "Python 3",
   "language": "python",
   "name": "python3"
  },
  "language_info": {
   "codemirror_mode": {
    "name": "ipython",
    "version": 3
   },
   "file_extension": ".py",
   "mimetype": "text/x-python",
   "name": "python",
   "nbconvert_exporter": "python",
   "pygments_lexer": "ipython3",
   "version": "3.10.8"
  },
  "orig_nbformat": 4
 },
 "nbformat": 4,
 "nbformat_minor": 2
}
